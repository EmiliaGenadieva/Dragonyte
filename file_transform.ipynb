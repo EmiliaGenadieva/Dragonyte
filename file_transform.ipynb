{
 "cells": [
  {
   "cell_type": "code",
   "execution_count": 77,
   "metadata": {},
   "outputs": [],
   "source": [
    "import pandas as pd"
   ]
  },
  {
   "cell_type": "code",
   "execution_count": 86,
   "metadata": {},
   "outputs": [],
   "source": [
    "excelfile = pd.read_excel(open('/home/becode/Desktop/Dragonyte/venv/Data/Data_dictionary.xlsx', 'rb'), sheet_name='Sheet1')"
   ]
  },
  {
   "cell_type": "code",
   "execution_count": 80,
   "metadata": {},
   "outputs": [
    {
     "name": "stdout",
     "output_type": "stream",
     "text": [
      "46\n",
      "<class 'pandas.core.frame.DataFrame'>\n"
     ]
    },
    {
     "data": {
      "text/html": [
       "<div>\n",
       "<style scoped>\n",
       "    .dataframe tbody tr th:only-of-type {\n",
       "        vertical-align: middle;\n",
       "    }\n",
       "\n",
       "    .dataframe tbody tr th {\n",
       "        vertical-align: top;\n",
       "    }\n",
       "\n",
       "    .dataframe thead th {\n",
       "        text-align: right;\n",
       "    }\n",
       "</style>\n",
       "<table border=\"1\" class=\"dataframe\">\n",
       "  <thead>\n",
       "    <tr style=\"text-align: right;\">\n",
       "      <th></th>\n",
       "      <th>Sheet</th>\n",
       "      <th>Field</th>\n",
       "      <th>Definition</th>\n",
       "    </tr>\n",
       "  </thead>\n",
       "  <tbody>\n",
       "    <tr>\n",
       "      <th>count</th>\n",
       "      <td>46</td>\n",
       "      <td>46</td>\n",
       "      <td>46</td>\n",
       "    </tr>\n",
       "    <tr>\n",
       "      <th>unique</th>\n",
       "      <td>6</td>\n",
       "      <td>24</td>\n",
       "      <td>30</td>\n",
       "    </tr>\n",
       "    <tr>\n",
       "      <th>top</th>\n",
       "      <td>Market_Sizes</td>\n",
       "      <td>Id</td>\n",
       "      <td>ID of the country</td>\n",
       "    </tr>\n",
       "    <tr>\n",
       "      <th>freq</th>\n",
       "      <td>15</td>\n",
       "      <td>3</td>\n",
       "      <td>3</td>\n",
       "    </tr>\n",
       "  </tbody>\n",
       "</table>\n",
       "</div>"
      ],
      "text/plain": [
       "               Sheet Field         Definition\n",
       "count             46    46                 46\n",
       "unique             6    24                 30\n",
       "top     Market_Sizes    Id  ID of the country\n",
       "freq              15     3                  3"
      ]
     },
     "execution_count": 80,
     "metadata": {},
     "output_type": "execute_result"
    }
   ],
   "source": [
    "print(len(excelfile))\n",
    "print(type(excelfile))\n",
    "excelfile.describe()"
   ]
  },
  {
   "cell_type": "code",
   "execution_count": 87,
   "metadata": {},
   "outputs": [
    {
     "data": {
      "text/html": [
       "<div>\n",
       "<style scoped>\n",
       "    .dataframe tbody tr th:only-of-type {\n",
       "        vertical-align: middle;\n",
       "    }\n",
       "\n",
       "    .dataframe tbody tr th {\n",
       "        vertical-align: top;\n",
       "    }\n",
       "\n",
       "    .dataframe thead th {\n",
       "        text-align: right;\n",
       "    }\n",
       "</style>\n",
       "<table border=\"1\" class=\"dataframe\">\n",
       "  <thead>\n",
       "    <tr style=\"text-align: right;\">\n",
       "      <th></th>\n",
       "      <th>Sheet</th>\n",
       "      <th>Field</th>\n",
       "      <th>Definition</th>\n",
       "    </tr>\n",
       "  </thead>\n",
       "  <tbody>\n",
       "    <tr>\n",
       "      <th>0</th>\n",
       "      <td>Categories</td>\n",
       "      <td>Id</td>\n",
       "      <td>ID of the category</td>\n",
       "    </tr>\n",
       "    <tr>\n",
       "      <th>1</th>\n",
       "      <td>Categories</td>\n",
       "      <td>Name</td>\n",
       "      <td>Name of the category</td>\n",
       "    </tr>\n",
       "    <tr>\n",
       "      <th>2</th>\n",
       "      <td>Channel_Volume</td>\n",
       "      <td>Location</td>\n",
       "      <td>ID of the country</td>\n",
       "    </tr>\n",
       "    <tr>\n",
       "      <th>3</th>\n",
       "      <td>Channel_Volume</td>\n",
       "      <td>Industry</td>\n",
       "      <td>Name of the industry</td>\n",
       "    </tr>\n",
       "    <tr>\n",
       "      <th>4</th>\n",
       "      <td>Channel_Volume</td>\n",
       "      <td>Edition</td>\n",
       "      <td>Year of published data: 2022</td>\n",
       "    </tr>\n",
       "  </tbody>\n",
       "</table>\n",
       "</div>"
      ],
      "text/plain": [
       "            Sheet     Field                    Definition\n",
       "0      Categories        Id            ID of the category\n",
       "1      Categories      Name          Name of the category\n",
       "2  Channel_Volume  Location             ID of the country\n",
       "3  Channel_Volume  Industry          Name of the industry\n",
       "4  Channel_Volume   Edition  Year of published data: 2022"
      ]
     },
     "execution_count": 87,
     "metadata": {},
     "output_type": "execute_result"
    }
   ],
   "source": [
    "excelfile = pd.read_excel(open('/home/becode/Desktop/Dragonyte/venv/Data/Data_dictionary.xlsx', 'rb'), index_col=False, dtype=str)\n",
    "excelfile.head()\n"
   ]
  },
  {
   "cell_type": "code",
   "execution_count": 94,
   "metadata": {},
   "outputs": [
    {
     "data": {
      "text/plain": [
       "0                                    ID of the category\n",
       "1                                  Name of the category\n",
       "2                                     ID of the country\n",
       "3                                  Name of the industry\n",
       "4                          Year of published data: 2022\n",
       "5                               Name of the subcategory\n",
       "6     Place of the subcategory in the subcategory hi...\n",
       "7                               \"Off-trade Volume\" only\n",
       "8     Name of the distribution channel, how the fina...\n",
       "9     Place of the outlet in the outlet hierarchy (1...\n",
       "10    In thousands or millions of litres for the Volume\n",
       "11                               Year of the sale: YYYY\n",
       "12                         Year formatted as 31/12/YYYY\n",
       "13                                     Number of [Unit]\n",
       "14                                 Name of the category\n",
       "15                                    ID of the country\n",
       "16                                 Name of the industry\n",
       "17                                ID of the Subcategory\n",
       "18    Place of the subcategory in the subcateogory h...\n",
       "19                                  \"Total Volume\" only\n",
       "20                                  Name of the company\n",
       "21    In thousands or millions of litres for the Volume\n",
       "22                                4 figures of the year\n",
       "23                         Year formatted as 31/12/YYYY\n",
       "24                                          Year - 2016\n",
       "25                                     Number of [Unit]\n",
       "26                                    ID of the country\n",
       "27                                               Region\n",
       "28                                          Location ID\n",
       "29                                 Name of the industry\n",
       "30                                ID of the Subcategory\n",
       "31    Place of the subcategory in the subcateogory h...\n",
       "32             Total Value RSP (Retail Sale Price) only\n",
       "33                                         USD Millions\n",
       "34    \"Historic Constant 2021 Prices, Forecast Const...\n",
       "35    \"Historic Fixed 2021 Exchange Rates, Forecast ...\n",
       "36                                4 figures of the year\n",
       "37                         Year formatted as 31/12/YYYY\n",
       "38                                     Number of [Unit]\n",
       "39                                     Number of litres\n",
       "40                                          Year - 2016\n",
       "41                                          Year - 2022\n",
       "42                         Year of published data: 2022\n",
       "43                                ID of the subcategory\n",
       "44                                   ID of the category\n",
       "45                                  Name of subcategory\n",
       "Name: Definition, dtype: object"
      ]
     },
     "execution_count": 94,
     "metadata": {},
     "output_type": "execute_result"
    }
   ],
   "source": [
    "group = excelfile.groupby(['Sheet', 'Field'])[ 'Definition']\n",
    "group.head()"
   ]
  },
  {
   "cell_type": "code",
   "execution_count": 82,
   "metadata": {},
   "outputs": [
    {
     "data": {
      "text/plain": [
       "Sheet         string\n",
       "Field         string\n",
       "Definition    string\n",
       "dtype: object"
      ]
     },
     "execution_count": 82,
     "metadata": {},
     "output_type": "execute_result"
    }
   ],
   "source": [
    "excelfile.columns\n",
    "excelfile['Sheet'].dtype\n",
    "for var in excelfile.columns:\n",
    "    excelfile[var] = excelfile[var].astype('string')\n",
    "excelfile.dtypes"
   ]
  },
  {
   "cell_type": "code",
   "execution_count": 83,
   "metadata": {},
   "outputs": [],
   "source": [
    "excelfile.to_csv('Data/Data_dictionary.csv', index=False)"
   ]
  }
 ],
 "metadata": {
  "kernelspec": {
   "display_name": "venv",
   "language": "python",
   "name": "python3"
  },
  "language_info": {
   "codemirror_mode": {
    "name": "ipython",
    "version": 3
   },
   "file_extension": ".py",
   "mimetype": "text/x-python",
   "name": "python",
   "nbconvert_exporter": "python",
   "pygments_lexer": "ipython3",
   "version": "3.8.10"
  },
  "orig_nbformat": 4
 },
 "nbformat": 4,
 "nbformat_minor": 2
}
