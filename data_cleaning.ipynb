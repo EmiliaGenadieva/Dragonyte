{
 "cells": [
  {
   "attachments": {},
   "cell_type": "markdown",
   "metadata": {},
   "source": [
    "# Data preparation\n",
    "### Received csv files - all fields have object datatype & 1 Excell file with explanation of the data field names\n",
    "The Goal is to clean data and change data types to categorical, float or int, so that it can be easily loaded in Tableau.</br>\n",
    "For ML Engineer, joining of the tables is more appropriate, one can have overview of the data in 1 table.</br>\n",
    "</br>Import the necessary libraries"
   ]
  },
  {
   "cell_type": "code",
   "execution_count": 6,
   "metadata": {},
   "outputs": [],
   "source": [
    "import pandas as pd\n",
    "import matplotlib.pyplot as plt\n",
    "from pandas import DataFrame"
   ]
  },
  {
   "attachments": {},
   "cell_type": "markdown",
   "metadata": {},
   "source": [
    "import the Excell file and view data"
   ]
  },
  {
   "cell_type": "code",
   "execution_count": 7,
   "metadata": {},
   "outputs": [],
   "source": [
    "excelfile = pd.read_excel(open('Data/Data_dictionary.xlsx', 'rb'), sheet_name='Sheet1')"
   ]
  },
  {
   "attachments": {},
   "cell_type": "markdown",
   "metadata": {},
   "source": [
    "check all definitions of fields in 1 place"
   ]
  },
  {
   "cell_type": "code",
   "execution_count": 8,
   "metadata": {},
   "outputs": [
    {
     "data": {
      "text/plain": [
       "0                                    ID of the category\n",
       "1                                  Name of the category\n",
       "2                                     ID of the country\n",
       "3                                  Name of the industry\n",
       "4                          Year of published data: 2022\n",
       "5                               Name of the subcategory\n",
       "6     Place of the subcategory in the subcategory hi...\n",
       "7                               \"Off-trade Volume\" only\n",
       "8     Name of the distribution channel, how the fina...\n",
       "9     Place of the outlet in the outlet hierarchy (1...\n",
       "10    In thousands or millions of litres for the Volume\n",
       "11                               Year of the sale: YYYY\n",
       "12                         Year formatted as 31/12/YYYY\n",
       "13                                     Number of [Unit]\n",
       "14                                 Name of the category\n",
       "15                                    ID of the country\n",
       "16                                 Name of the industry\n",
       "17                                ID of the Subcategory\n",
       "18    Place of the subcategory in the subcateogory h...\n",
       "19                                  \"Total Volume\" only\n",
       "20                                  Name of the company\n",
       "21    In thousands or millions of litres for the Volume\n",
       "22                                4 figures of the year\n",
       "23                         Year formatted as 31/12/YYYY\n",
       "24                                          Year - 2016\n",
       "25                                     Number of [Unit]\n",
       "26                                    ID of the country\n",
       "27                                               Region\n",
       "28                                          Location ID\n",
       "29                                 Name of the industry\n",
       "30                                ID of the Subcategory\n",
       "31    Place of the subcategory in the subcateogory h...\n",
       "32             Total Value RSP (Retail Sale Price) only\n",
       "33                                         USD Millions\n",
       "34    \"Historic Constant 2021 Prices, Forecast Const...\n",
       "35    \"Historic Fixed 2021 Exchange Rates, Forecast ...\n",
       "36                                4 figures of the year\n",
       "37                         Year formatted as 31/12/YYYY\n",
       "38                                     Number of [Unit]\n",
       "39                                     Number of litres\n",
       "40                                          Year - 2016\n",
       "41                                          Year - 2022\n",
       "42                         Year of published data: 2022\n",
       "43                                ID of the subcategory\n",
       "44                                   ID of the category\n",
       "45                                  Name of subcategory\n",
       "Name: Definition, dtype: object"
      ]
     },
     "execution_count": 8,
     "metadata": {},
     "output_type": "execute_result"
    }
   ],
   "source": [
    "group = excelfile.groupby(['Sheet', 'Field'])[ 'Definition']\n",
    "group.head()"
   ]
  },
  {
   "attachments": {},
   "cell_type": "markdown",
   "metadata": {},
   "source": [
    "Csv files are stored in folder 'Data', the name of the file and separator may be different"
   ]
  },
  {
   "cell_type": "code",
   "execution_count": 9,
   "metadata": {},
   "outputs": [
    {
     "data": {
      "text/html": [
       "<div>\n",
       "<style scoped>\n",
       "    .dataframe tbody tr th:only-of-type {\n",
       "        vertical-align: middle;\n",
       "    }\n",
       "\n",
       "    .dataframe tbody tr th {\n",
       "        vertical-align: top;\n",
       "    }\n",
       "\n",
       "    .dataframe thead th {\n",
       "        text-align: right;\n",
       "    }\n",
       "</style>\n",
       "<table border=\"1\" class=\"dataframe\">\n",
       "  <thead>\n",
       "    <tr style=\"text-align: right;\">\n",
       "      <th></th>\n",
       "      <th>id</th>\n",
       "      <th>0</th>\n",
       "      <th>1</th>\n",
       "      <th>0.1</th>\n",
       "      <th>2</th>\n",
       "      <th>0.2</th>\n",
       "      <th>3</th>\n",
       "      <th>0.3</th>\n",
       "      <th>4</th>\n",
       "      <th>0.4</th>\n",
       "      <th>5</th>\n",
       "      <th>0.5</th>\n",
       "      <th>6</th>\n",
       "      <th>0.6</th>\n",
       "      <th>7</th>\n",
       "      <th>0.7</th>\n",
       "      <th>8</th>\n",
       "      <th>0.8</th>\n",
       "    </tr>\n",
       "  </thead>\n",
       "  <tbody>\n",
       "    <tr>\n",
       "      <th>0</th>\n",
       "      <td>Region</td>\n",
       "      <td>NaN</td>\n",
       "      <td>Asia Pacific</td>\n",
       "      <td>NaN</td>\n",
       "      <td>Australasia</td>\n",
       "      <td>NaN</td>\n",
       "      <td>Eastern Europe</td>\n",
       "      <td>NaN</td>\n",
       "      <td>Latin America</td>\n",
       "      <td>NaN</td>\n",
       "      <td>Middle East and Africa</td>\n",
       "      <td>NaN</td>\n",
       "      <td>North America</td>\n",
       "      <td>NaN</td>\n",
       "      <td>Western Europe</td>\n",
       "      <td>NaN</td>\n",
       "      <td>World</td>\n",
       "      <td>NaN</td>\n",
       "    </tr>\n",
       "    <tr>\n",
       "      <th>1</th>\n",
       "      <td>Country</td>\n",
       "      <td>NaN</td>\n",
       "      <td>Asia Pacific</td>\n",
       "      <td>NaN</td>\n",
       "      <td>Australasia</td>\n",
       "      <td>NaN</td>\n",
       "      <td>Eastern Europe</td>\n",
       "      <td>NaN</td>\n",
       "      <td>Latin America</td>\n",
       "      <td>NaN</td>\n",
       "      <td>Middle East and Africa</td>\n",
       "      <td>NaN</td>\n",
       "      <td>North America</td>\n",
       "      <td>NaN</td>\n",
       "      <td>Western Europe</td>\n",
       "      <td>NaN</td>\n",
       "      <td>World</td>\n",
       "      <td>NaN</td>\n",
       "    </tr>\n",
       "  </tbody>\n",
       "</table>\n",
       "</div>"
      ],
      "text/plain": [
       "        id   0             1  0.1            2  0.2               3  0.3  \\\n",
       "0   Region NaN  Asia Pacific  NaN  Australasia  NaN  Eastern Europe  NaN   \n",
       "1  Country NaN  Asia Pacific  NaN  Australasia  NaN  Eastern Europe  NaN   \n",
       "\n",
       "               4  0.4                       5  0.5              6  0.6  \\\n",
       "0  Latin America  NaN  Middle East and Africa  NaN  North America  NaN   \n",
       "1  Latin America  NaN  Middle East and Africa  NaN  North America  NaN   \n",
       "\n",
       "                7  0.7      8  0.8  \n",
       "0  Western Europe  NaN  World  NaN  \n",
       "1  Western Europe  NaN  World  NaN  "
      ]
     },
     "execution_count": 9,
     "metadata": {},
     "output_type": "execute_result"
    }
   ],
   "source": [
    "Locations = pd.read_csv('Data/Locations.csv', sep=';')\n",
    "Locations.head()"
   ]
  },
  {
   "attachments": {},
   "cell_type": "markdown",
   "metadata": {},
   "source": [
    "The datafile of 'Locations' needs different manipulations of the data, we transpose and clean the empty fields"
   ]
  },
  {
   "cell_type": "code",
   "execution_count": 16,
   "metadata": {},
   "outputs": [
    {
     "name": "stdout",
     "output_type": "stream",
     "text": [
      "Index(['Region', 'Country'], dtype='object', name='id')\n"
     ]
    },
    {
     "data": {
      "text/plain": [
       "1              Asia Pacific\n",
       "2               Australasia\n",
       "3            Eastern Europe\n",
       "4             Latin America\n",
       "5    Middle East and Africa\n",
       "6             North America\n",
       "7            Western Europe\n",
       "8                     World\n",
       "Name: Region, dtype: object"
      ]
     },
     "execution_count": 16,
     "metadata": {},
     "output_type": "execute_result"
    }
   ],
   "source": [
    "Locations = pd.read_csv('Data/Locations.csv', sep=';')\n",
    "\n",
    "Locations = Locations.T\n",
    "\n",
    "Locations.dropna(inplace=True)\n",
    "Locations.reindex()\n",
    "Locations.columns = Locations.iloc[0]\n",
    "Locations = Locations.iloc[1:]\n",
    "df.to_csv('Location.csv', index=False)\n",
    "df = DataFrame(Locations, columns=[ 'Region', 'Country'])\n",
    "\n",
    "print(Locations.columns)\n",
    "df['Location'] = df.reset_index().index\n",
    "df.set_index('Location')\n",
    "df['Region']\n"
   ]
  },
  {
   "cell_type": "code",
   "execution_count": 7,
   "metadata": {},
   "outputs": [
    {
     "data": {
      "text/plain": [
       "Int64Index([0, 1, 2, 3, 4, 5, 6, 7], dtype='int64', name='Location')"
      ]
     },
     "execution_count": 7,
     "metadata": {},
     "output_type": "execute_result"
    }
   ],
   "source": [
    "type(df['Region'])\n",
    "df['Region'].index"
   ]
  },
  {
   "attachments": {},
   "cell_type": "markdown",
   "metadata": {},
   "source": [
    "join the 2 DataFrames together"
   ]
  },
  {
   "cell_type": "code",
   "execution_count": 8,
   "metadata": {},
   "outputs": [
    {
     "data": {
      "text/html": [
       "<div>\n",
       "<style scoped>\n",
       "    .dataframe tbody tr th:only-of-type {\n",
       "        vertical-align: middle;\n",
       "    }\n",
       "\n",
       "    .dataframe tbody tr th {\n",
       "        vertical-align: top;\n",
       "    }\n",
       "\n",
       "    .dataframe thead th {\n",
       "        text-align: right;\n",
       "    }\n",
       "</style>\n",
       "<table border=\"1\" class=\"dataframe\">\n",
       "  <thead>\n",
       "    <tr style=\"text-align: right;\">\n",
       "      <th></th>\n",
       "      <th>Industry</th>\n",
       "      <th>Edition</th>\n",
       "      <th>Category</th>\n",
       "      <th>Subcategory</th>\n",
       "      <th>Hierarchy_Level</th>\n",
       "      <th>Data_Type</th>\n",
       "      <th>Outlet</th>\n",
       "      <th>Outlet_Hierarchy</th>\n",
       "      <th>Unit</th>\n",
       "      <th>Year_text</th>\n",
       "      <th>Year_date</th>\n",
       "      <th>Volume</th>\n",
       "      <th>Location</th>\n",
       "    </tr>\n",
       "  </thead>\n",
       "  <tbody>\n",
       "    <tr>\n",
       "      <th>0</th>\n",
       "      <td>Alcoholic Drinks</td>\n",
       "      <td>2022</td>\n",
       "      <td>Beer</td>\n",
       "      <td>Beer</td>\n",
       "      <td>1</td>\n",
       "      <td>Off-trade Volume</td>\n",
       "      <td>Food/drink/tobacco specialists</td>\n",
       "      <td>3</td>\n",
       "      <td>million litres</td>\n",
       "      <td>2007</td>\n",
       "      <td>Monday, 31 December 2007</td>\n",
       "      <td>2613,845506</td>\n",
       "      <td>Australasia</td>\n",
       "    </tr>\n",
       "    <tr>\n",
       "      <th>1</th>\n",
       "      <td>Alcoholic Drinks</td>\n",
       "      <td>2022</td>\n",
       "      <td>Beer</td>\n",
       "      <td>Beer</td>\n",
       "      <td>1</td>\n",
       "      <td>Off-trade Volume</td>\n",
       "      <td>Food/drink/tobacco specialists</td>\n",
       "      <td>3</td>\n",
       "      <td>million litres</td>\n",
       "      <td>2008</td>\n",
       "      <td>Wednesday, 31 December 2008</td>\n",
       "      <td>2513,025824</td>\n",
       "      <td>Australasia</td>\n",
       "    </tr>\n",
       "    <tr>\n",
       "      <th>2</th>\n",
       "      <td>Alcoholic Drinks</td>\n",
       "      <td>2022</td>\n",
       "      <td>Beer</td>\n",
       "      <td>Beer</td>\n",
       "      <td>1</td>\n",
       "      <td>Off-trade Volume</td>\n",
       "      <td>Food/drink/tobacco specialists</td>\n",
       "      <td>3</td>\n",
       "      <td>million litres</td>\n",
       "      <td>2009</td>\n",
       "      <td>Thursday, 31 December 2009</td>\n",
       "      <td>2421,088595</td>\n",
       "      <td>Australasia</td>\n",
       "    </tr>\n",
       "    <tr>\n",
       "      <th>3</th>\n",
       "      <td>Alcoholic Drinks</td>\n",
       "      <td>2022</td>\n",
       "      <td>Beer</td>\n",
       "      <td>Beer</td>\n",
       "      <td>1</td>\n",
       "      <td>Off-trade Volume</td>\n",
       "      <td>Food/drink/tobacco specialists</td>\n",
       "      <td>3</td>\n",
       "      <td>million litres</td>\n",
       "      <td>2010</td>\n",
       "      <td>Friday, 31 December 2010</td>\n",
       "      <td>2422,128432</td>\n",
       "      <td>Australasia</td>\n",
       "    </tr>\n",
       "    <tr>\n",
       "      <th>4</th>\n",
       "      <td>Alcoholic Drinks</td>\n",
       "      <td>2022</td>\n",
       "      <td>Beer</td>\n",
       "      <td>Beer</td>\n",
       "      <td>1</td>\n",
       "      <td>Off-trade Volume</td>\n",
       "      <td>Food/drink/tobacco specialists</td>\n",
       "      <td>3</td>\n",
       "      <td>million litres</td>\n",
       "      <td>2011</td>\n",
       "      <td>Saturday, 31 December 2011</td>\n",
       "      <td>2439,33622</td>\n",
       "      <td>Australasia</td>\n",
       "    </tr>\n",
       "  </tbody>\n",
       "</table>\n",
       "</div>"
      ],
      "text/plain": [
       "           Industry  Edition Category Subcategory  Hierarchy_Level  \\\n",
       "0  Alcoholic Drinks     2022     Beer        Beer                1   \n",
       "1  Alcoholic Drinks     2022     Beer        Beer                1   \n",
       "2  Alcoholic Drinks     2022     Beer        Beer                1   \n",
       "3  Alcoholic Drinks     2022     Beer        Beer                1   \n",
       "4  Alcoholic Drinks     2022     Beer        Beer                1   \n",
       "\n",
       "          Data_Type                          Outlet  Outlet_Hierarchy  \\\n",
       "0  Off-trade Volume  Food/drink/tobacco specialists                 3   \n",
       "1  Off-trade Volume  Food/drink/tobacco specialists                 3   \n",
       "2  Off-trade Volume  Food/drink/tobacco specialists                 3   \n",
       "3  Off-trade Volume  Food/drink/tobacco specialists                 3   \n",
       "4  Off-trade Volume  Food/drink/tobacco specialists                 3   \n",
       "\n",
       "             Unit  Year_text                    Year_date       Volume  \\\n",
       "0  million litres       2007     Monday, 31 December 2007  2613,845506   \n",
       "1  million litres       2008  Wednesday, 31 December 2008  2513,025824   \n",
       "2  million litres       2009   Thursday, 31 December 2009  2421,088595   \n",
       "3  million litres       2010     Friday, 31 December 2010  2422,128432   \n",
       "4  million litres       2011   Saturday, 31 December 2011   2439,33622   \n",
       "\n",
       "      Location  \n",
       "0  Australasia  \n",
       "1  Australasia  \n",
       "2  Australasia  \n",
       "3  Australasia  \n",
       "4  Australasia  "
      ]
     },
     "execution_count": 8,
     "metadata": {},
     "output_type": "execute_result"
    }
   ],
   "source": [
    "Channel_Volume = pd.read_csv('Data/Channel_Volume.csv')\n",
    "Channel_Volume['Location'] = Channel_Volume['Location'].rename('id').astype(int)\n",
    "\n",
    "Channel_Volume = Channel_Volume.join(df['Region'],on='Location')\n",
    "\n",
    "Channel_Volume.drop('Location', axis=1, inplace=True)\n",
    "Channel_Volume.rename(columns={\"Region\": \"Location\"}, inplace=True)\n",
    "\n",
    "Channel_Volume.head()"
   ]
  },
  {
   "attachments": {},
   "cell_type": "markdown",
   "metadata": {},
   "source": [
    "change the 'volume' datatype to float"
   ]
  },
  {
   "cell_type": "code",
   "execution_count": 9,
   "metadata": {},
   "outputs": [
    {
     "data": {
      "text/plain": [
       "0        2613.845506\n",
       "1        2513.025824\n",
       "2        2421.088595\n",
       "3        2422.128432\n",
       "4        2439.336220\n",
       "            ...     \n",
       "8463    16514.210840\n",
       "8464    16522.152390\n",
       "8465    16544.606440\n",
       "8466    16626.514900\n",
       "8467    16664.638000\n",
       "Name: Volume, Length: 8468, dtype: float64"
      ]
     },
     "execution_count": 9,
     "metadata": {},
     "output_type": "execute_result"
    }
   ],
   "source": [
    "Channel_Volume['Volume'] = Channel_Volume['Volume'].str.replace(',', '.')\n",
    "Channel_Volume['Volume'] = Channel_Volume['Volume'].astype('float')\n",
    "Channel_Volume['Volume']"
   ]
  },
  {
   "attachments": {},
   "cell_type": "markdown",
   "metadata": {},
   "source": [
    "Read to view 'Market Sizes' file"
   ]
  },
  {
   "cell_type": "code",
   "execution_count": 10,
   "metadata": {},
   "outputs": [],
   "source": [
    "Market_Sizes = pd.read_csv('Data/Market_Sizes.csv', sep=',')"
   ]
  },
  {
   "attachments": {},
   "cell_type": "markdown",
   "metadata": {},
   "source": [
    "The csv file 'Company_Share_GBO_unit' can't be loaded at first. In VSCode one needs to open the file, select the multiple ';;;;;' signs and right-click to select 'Change all occurences' and delete all. After that the file can be loaded. "
   ]
  },
  {
   "cell_type": "code",
   "execution_count": 11,
   "metadata": {},
   "outputs": [
    {
     "data": {
      "text/html": [
       "<div>\n",
       "<style scoped>\n",
       "    .dataframe tbody tr th:only-of-type {\n",
       "        vertical-align: middle;\n",
       "    }\n",
       "\n",
       "    .dataframe tbody tr th {\n",
       "        vertical-align: top;\n",
       "    }\n",
       "\n",
       "    .dataframe thead th {\n",
       "        text-align: right;\n",
       "    }\n",
       "</style>\n",
       "<table border=\"1\" class=\"dataframe\">\n",
       "  <thead>\n",
       "    <tr style=\"text-align: right;\">\n",
       "      <th></th>\n",
       "      <th>Location</th>\n",
       "      <th>Industry</th>\n",
       "      <th>Subcategory_ID</th>\n",
       "      <th>Hierarchy_Level</th>\n",
       "      <th>Data_Type</th>\n",
       "      <th>Global_Brand_Owner</th>\n",
       "      <th>Unit</th>\n",
       "      <th>Year_text</th>\n",
       "      <th>Year_date</th>\n",
       "      <th>Year_minus_2016</th>\n",
       "      <th>Volume</th>\n",
       "    </tr>\n",
       "  </thead>\n",
       "  <tbody>\n",
       "    <tr>\n",
       "      <th>0</th>\n",
       "      <td>8.0</td>\n",
       "      <td>Alcoholic Drinks</td>\n",
       "      <td>13.0</td>\n",
       "      <td>1.0</td>\n",
       "      <td>Total Volume</td>\n",
       "      <td>Anheuser-Busch InBev NV</td>\n",
       "      <td>million litres</td>\n",
       "      <td>2016.0</td>\n",
       "      <td>31-12-16</td>\n",
       "      <td>4.0</td>\n",
       "      <td>35506,3773</td>\n",
       "    </tr>\n",
       "    <tr>\n",
       "      <th>1</th>\n",
       "      <td>8.0</td>\n",
       "      <td>Alcoholic Drinks</td>\n",
       "      <td>13.0</td>\n",
       "      <td>1.0</td>\n",
       "      <td>Total Volume</td>\n",
       "      <td>Heineken NV</td>\n",
       "      <td>million litres</td>\n",
       "      <td>2016.0</td>\n",
       "      <td>Saturday, 31 Dec 2016</td>\n",
       "      <td>4.0</td>\n",
       "      <td>18482,595</td>\n",
       "    </tr>\n",
       "    <tr>\n",
       "      <th>2</th>\n",
       "      <td>8.0</td>\n",
       "      <td>Alcoholic Drinks</td>\n",
       "      <td>13.0</td>\n",
       "      <td>1.0</td>\n",
       "      <td>Total Volume</td>\n",
       "      <td>Carlsberg A/S</td>\n",
       "      <td>million litres</td>\n",
       "      <td>2016.0</td>\n",
       "      <td>31-12-16</td>\n",
       "      <td>4.0</td>\n",
       "      <td>11121,6986</td>\n",
       "    </tr>\n",
       "    <tr>\n",
       "      <th>3</th>\n",
       "      <td>8.0</td>\n",
       "      <td>Alcoholic Drinks</td>\n",
       "      <td>13.0</td>\n",
       "      <td>1.0</td>\n",
       "      <td>Total Volume</td>\n",
       "      <td>Dragonyte Brewery</td>\n",
       "      <td>million litres</td>\n",
       "      <td>2016.0</td>\n",
       "      <td>31-Dec-16</td>\n",
       "      <td>4.0</td>\n",
       "      <td>6252,3825</td>\n",
       "    </tr>\n",
       "    <tr>\n",
       "      <th>4</th>\n",
       "      <td>8.0</td>\n",
       "      <td>Alcoholic Drinks</td>\n",
       "      <td>13.0</td>\n",
       "      <td>1.0</td>\n",
       "      <td>Total Volume</td>\n",
       "      <td>Tsingtao Brewery Co Ltd</td>\n",
       "      <td>million litres</td>\n",
       "      <td>2016.0</td>\n",
       "      <td>31 12 2016</td>\n",
       "      <td>4.0</td>\n",
       "      <td>7834,49490</td>\n",
       "    </tr>\n",
       "  </tbody>\n",
       "</table>\n",
       "</div>"
      ],
      "text/plain": [
       "   Location          Industry  Subcategory_ID  Hierarchy_Level     Data_Type  \\\n",
       "0       8.0  Alcoholic Drinks            13.0              1.0  Total Volume   \n",
       "1       8.0  Alcoholic Drinks            13.0              1.0  Total Volume   \n",
       "2       8.0  Alcoholic Drinks            13.0              1.0  Total Volume   \n",
       "3       8.0  Alcoholic Drinks            13.0              1.0  Total Volume   \n",
       "4       8.0  Alcoholic Drinks            13.0              1.0  Total Volume   \n",
       "\n",
       "        Global_Brand_Owner            Unit  Year_text              Year_date  \\\n",
       "0  Anheuser-Busch InBev NV  million litres     2016.0               31-12-16   \n",
       "1              Heineken NV  million litres     2016.0  Saturday, 31 Dec 2016   \n",
       "2            Carlsberg A/S  million litres     2016.0               31-12-16   \n",
       "3        Dragonyte Brewery  million litres     2016.0              31-Dec-16   \n",
       "4  Tsingtao Brewery Co Ltd  million litres     2016.0             31 12 2016   \n",
       "\n",
       "   Year_minus_2016      Volume  \n",
       "0              4.0  35506,3773  \n",
       "1              4.0   18482,595  \n",
       "2              4.0  11121,6986  \n",
       "3              4.0   6252,3825  \n",
       "4              4.0  7834,49490  "
      ]
     },
     "execution_count": 11,
     "metadata": {},
     "output_type": "execute_result"
    }
   ],
   "source": [
    "Company_Share_GBO_unit = pd.read_csv('Data/Company_Share_GBO_unit.csv', sep=';')\n",
    "Company_Share_GBO_unit.head()"
   ]
  },
  {
   "cell_type": "code",
   "execution_count": 12,
   "metadata": {},
   "outputs": [
    {
     "data": {
      "text/plain": [
       "Location              float64\n",
       "Industry               object\n",
       "Subcategory_ID        float64\n",
       "Hierarchy_Level       float64\n",
       "Data_Type              object\n",
       "Global_Brand_Owner     object\n",
       "Unit                   object\n",
       "Year_text             float64\n",
       "Year_date              object\n",
       "Year_minus_2016       float64\n",
       "Volume                 object\n",
       "dtype: object"
      ]
     },
     "execution_count": 12,
     "metadata": {},
     "output_type": "execute_result"
    }
   ],
   "source": [
    "Company_Share_GBO_unit.dtypes"
   ]
  },
  {
   "attachments": {},
   "cell_type": "markdown",
   "metadata": {},
   "source": [
    "In the same way like with the table Locations, one can see that 'Location' is float and not int. Volume needs in the same way to be converted to float from object"
   ]
  },
  {
   "attachments": {},
   "cell_type": "markdown",
   "metadata": {},
   "source": [
    "\n",
    "### Conclusion </br> The other csv files can also be loaded in a similar manner and joined to be explored further."
   ]
  },
  {
   "cell_type": "code",
   "execution_count": 16,
   "metadata": {},
   "outputs": [],
   "source": [
    "# subset the Channel_Volume DataFrame\n",
    "df2  = Channel_Volume[Channel_Volume['Unit'] == 'million litres']\n",
    "df3  = Channel_Volume[(Channel_Volume['Unit'] == '000 litres') & (Channel_Volume['Volume'] < 23.9)& (Channel_Volume['Volume'] >13.9)]\n"
   ]
  },
  {
   "attachments": {},
   "cell_type": "markdown",
   "metadata": {},
   "source": [
    "Even after subsetting for 'Volume' > 24 liters, we don't have even distribution.\n",
    "A sample of the resulting DataFrame is taken, only 40 samples with 40 as the number of bins\n",
    "</br> Histogram of the volume column in file 'Channel_Volume':"
   ]
  },
  {
   "cell_type": "code",
   "execution_count": 17,
   "metadata": {},
   "outputs": [
    {
     "data": {
      "image/png": "[encoded data removed]",
      "text/plain": [
       "<Figure size 640x480 with 1 Axes>"
      ]
     },
     "metadata": {},
     "output_type": "display_data"
    }
   ],
   "source": [
    "fig, ax = plt.subplots()\n",
    "# plot only the 'Volume' column\n",
    "ax.hist(df3['Volume'].sample(40), 40, density=True)\n",
    "fig.tight_layout()\n",
    "plt.show();"
   ]
  }
 ],
 "metadata": {
  "kernelspec": {
   "display_name": "venv",
   "language": "python",
   "name": "python3"
  },
  "language_info": {
   "codemirror_mode": {
    "name": "ipython",
    "version": 3
   },
   "file_extension": ".py",
   "mimetype": "text/x-python",
   "name": "python",
   "nbconvert_exporter": "python",
   "pygments_lexer": "ipython3",
   "version": "3.8.10"
  },
  "orig_nbformat": 4
 },
 "nbformat": 4,
 "nbformat_minor": 2
}
